{
  "nbformat": 4,
  "nbformat_minor": 0,
  "metadata": {
    "colab": {
      "name": "Untitled3.ipynb",
      "provenance": [],
      "collapsed_sections": [],
      "authorship_tag": "ABX9TyNPy8IeMP2FkI/1VOGffg3b",
      "include_colab_link": true
    },
    "kernelspec": {
      "name": "python3",
      "display_name": "Python 3"
    }
  },
  "cells": [
    {
      "cell_type": "markdown",
      "metadata": {
        "id": "view-in-github",
        "colab_type": "text"
      },
      "source": [
        "<a href=\"https://colab.research.google.com/github/ChiaYunn/TensorFlow/blob/main/Untitled3.ipynb\" target=\"_parent\"><img src=\"https://colab.research.google.com/assets/colab-badge.svg\" alt=\"Open In Colab\"/></a>"
      ]
    },
    {
      "cell_type": "code",
      "metadata": {
        "id": "_ALrMQOc68Jg",
        "outputId": "141973c7-ba35-488f-dfe5-7f3bb6bfa494",
        "colab": {
          "base_uri": "https://localhost:8080/",
          "height": 51
        }
      },
      "source": [
        "import numpy as np\n",
        "\n",
        "x = np.array(10.5)\n",
        "print(x)\n",
        "print(x.ndim)"
      ],
      "execution_count": 1,
      "outputs": [
        {
          "output_type": "stream",
          "text": [
            "10.5\n",
            "0\n"
          ],
          "name": "stdout"
        }
      ]
    },
    {
      "cell_type": "code",
      "metadata": {
        "id": "emDT1UjjAQ4x",
        "outputId": "72d21079-08b3-4b3f-f167-cb26d1425bdc",
        "colab": {
          "base_uri": "https://localhost:8080/",
          "height": 51
        }
      },
      "source": [
        "x = np.array([1.2, 5.5, 8.7, 10.5])\n",
        "print(x)\n",
        "print(x.ndim)"
      ],
      "execution_count": 2,
      "outputs": [
        {
          "output_type": "stream",
          "text": [
            "[ 1.2  5.5  8.7 10.5]\n",
            "1\n"
          ],
          "name": "stdout"
        }
      ]
    },
    {
      "cell_type": "code",
      "metadata": {
        "id": "5xe8k30_A_N1",
        "outputId": "368e29da-fa94-4ac7-c522-d80a762e50b5",
        "colab": {
          "base_uri": "https://localhost:8080/",
          "height": 102
        }
      },
      "source": [
        "x = np.array([[1.2, 5.5, 8.7, 8.5],\n",
        "             [2.2, 4.3, 6.5, 9.5],\n",
        "             [6.2, 7.3, 1.5, 3.5]])\n",
        "print(x)\n",
        "print(x.ndim)\n",
        "print(x.shape)"
      ],
      "execution_count": 6,
      "outputs": [
        {
          "output_type": "stream",
          "text": [
            "[[1.2 5.5 8.7 8.5]\n",
            " [2.2 4.3 6.5 9.5]\n",
            " [6.2 7.3 1.5 3.5]]\n",
            "2\n",
            "(3, 4)\n"
          ],
          "name": "stdout"
        }
      ]
    },
    {
      "cell_type": "code",
      "metadata": {
        "id": "YsROuODhDWBh",
        "outputId": "6b0564aa-5419-457d-bdb7-f118f1bd6679",
        "colab": {
          "base_uri": "https://localhost:8080/",
          "height": 187
        }
      },
      "source": [
        "x = np.array([[[1.2, 5.5, 3.3],\n",
        "               [8.7, 8.5, 4.4]],\n",
        "              [[2.2, 4.3, 5.5,],\n",
        "               [6.5, 9.5, 6.6]],\n",
        "              [[6.2, 7.3, 7.7],\n",
        "               [1.5, 3.5, 8.8]]])\n",
        "print(x)\n",
        "print(x.ndim)\n",
        "print(x.shape)"
      ],
      "execution_count": 8,
      "outputs": [
        {
          "output_type": "stream",
          "text": [
            "[[[1.2 5.5 3.3]\n",
            "  [8.7 8.5 4.4]]\n",
            "\n",
            " [[2.2 4.3 5.5]\n",
            "  [6.5 9.5 6.6]]\n",
            "\n",
            " [[6.2 7.3 7.7]\n",
            "  [1.5 3.5 8.8]]]\n",
            "3\n",
            "(3, 2, 3)\n"
          ],
          "name": "stdout"
        }
      ]
    },
    {
      "cell_type": "code",
      "metadata": {
        "id": "WjxJBrmkFKuO",
        "outputId": "8608f782-31ad-492c-f087-45205664adfa",
        "colab": {
          "base_uri": "https://localhost:8080/",
          "height": 374
        }
      },
      "source": [
        "a = np.array([[1, 2], [3, 4]])\n",
        "print(\"a=\")\n",
        "print(a)\n",
        "s = np.array([[5, 6], [7, 8]])\n",
        "print(\"s=\")\n",
        "print(s)\n",
        "b = a + s\n",
        "print(\"a+s=\")\n",
        "print(b)\n",
        "b = a - s\n",
        "print(\"a-s=\")\n",
        "print(b)\n",
        "b = a * s\n",
        "print(\"a*s=\")\n",
        "print(b)\n",
        "b = a / s\n",
        "print(\"a/s=\")\n",
        "print(b)\n",
        "\n",
        "b = a.dot(s)\n",
        "print(\"a.dot(s)=\")\n",
        "print(b)"
      ],
      "execution_count": 12,
      "outputs": [
        {
          "output_type": "stream",
          "text": [
            "a=\n",
            "[[1 2]\n",
            " [3 4]]\n",
            "s=\n",
            "[[5 6]\n",
            " [7 8]]\n",
            "a+s=\n",
            "[[ 6  8]\n",
            " [10 12]]\n",
            "a-s=\n",
            "[[-4 -4]\n",
            " [-4 -4]]\n",
            "a*s=\n",
            "[[ 5 12]\n",
            " [21 32]]\n",
            "a/s=\n",
            "[[0.2        0.33333333]\n",
            " [0.42857143 0.5       ]]\n",
            "a.dot(s)=\n",
            "[[19 22]\n",
            " [43 50]]\n"
          ],
          "name": "stdout"
        }
      ]
    }
  ]
}